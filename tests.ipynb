{
 "cells": [
  {
   "cell_type": "code",
   "execution_count": 35,
   "metadata": {},
   "outputs": [],
   "source": [
    "# ADDING FUNCTIONS TO TEST HERE\n",
    "\n",
    "import pandas as pd\n",
    "import numpy as np\n",
    "import scipy.stats as stats\n",
    "import matplotlib.pyplot as plt\n",
    "import os\n",
    "from pathlib import Path\n",
    "import warnings\n",
    "warnings.simplefilter(action='ignore', category=Warning)\n",
    "\n",
    "\n",
    "def clean_percents(item):\n",
    "    '''\n",
    "    Function to turn percent values into usable floats\n",
    "    '''\n",
    "    if '%' in str(item):\n",
    "        item = item.replace('%', '')\n",
    "        return float(item) / 100\n",
    "    return item\n",
    "\n",
    "def create_census_df():\n",
    "    '''\n",
    "    Reads census files for every year and concatenates the desired info into a single dataframe\n",
    "    '''\n",
    "    # Generate file paths for each spreadsheet in the census_info folder\n",
    "    paths = sorted(Path('census_info').iterdir(), key=os.path.getmtime)\n",
    "    data = []\n",
    "    year = 2010\n",
    "    # Iterate through each filepath (ordered by year) and convert each CSV into a DataFrame\n",
    "    for path in paths:\n",
    "        if os.path.basename(path).endswith('.csv'):\n",
    "            census = pd.read_csv(path).dropna()[:-1]\n",
    "            census['Year'] = year\n",
    "            census.columns = census.columns.str.replace('!!', ' ')\n",
    "            # Slight difference in format between newer (post-2015) and older files\n",
    "            if year < 2015:\n",
    "                census['United States Total Estimate'] = census['United States Total Estimate'].apply(clean_percents)\n",
    "            else:\n",
    "                census['United States Percent Estimate'] = census['United States Percent Estimate'].apply(clean_percents)\n",
    "            # Extract the data we care about by index number to account for format of files\n",
    "            group_1824 = census.iloc[1:5]\n",
    "            group_1824['Metric'] = 'Educational Attainment: 18-24'\n",
    "            data.append(group_1824)\n",
    "            group_o25 = census.iloc[6:13]\n",
    "            group_o25['Metric'] = 'Educational Attainment: 25 and Over'\n",
    "            data.append(group_o25)\n",
    "            group_earnings = census.tail()\n",
    "            group_earnings['Metric'] = 'Median Earnings'\n",
    "            data.append(group_earnings)\n",
    "            year += 1\n",
    "    \n",
    "    # Add all DataFrames into one larger DataFrame, grouped by year\n",
    "    census_df = pd.concat(data)\n",
    "    census_df['Label'] = census_df['Label'].apply(str.strip)\n",
    "    census_df = census_df.set_index('Year')\n",
    "    return census_df\n",
    "\n",
    "def some_college_1824(frame):\n",
    "    '''\n",
    "    A function used in conjunction with .apply() to returns a series of the total percentage of Americans\n",
    "    aged 18-24 that have attained at least some college per year\n",
    "    '''\n",
    "    year = frame.index[0]\n",
    "    edu_at = frame[frame['Metric'] == 'Educational Attainment: 18-24']\n",
    "    if year < 2015:\n",
    "        some_col = edu_at[edu_at['Label'] == 'Some college or associate\\'s degree']['United States Total Estimate'][year]\n",
    "        higher_col = edu_at[edu_at['Label'] == 'Bachelor\\'s degree or higher']['United States Total Estimate'][year]\n",
    "    else:\n",
    "        some_col = edu_at[edu_at['Label'] == 'Some college or associate\\'s degree']['United States Percent Estimate'][year]\n",
    "        higher_col = edu_at[edu_at['Label'] == 'Bachelor\\'s degree or higher']['United States Percent Estimate'][year]\n",
    "    return some_col + higher_col\n",
    "\n",
    "def convert_to_int(item):\n",
    "    '''\n",
    "    Takes a string representation of a number with commas and converts it to a numpy integer\n",
    "    '''\n",
    "    return np.int64(item.replace(',', ''))\n",
    "\n",
    "def get_median_yearly(frame):\n",
    "    '''\n",
    "    A function used in conjunction with .apply() to returns a series of the total percentage of Americans\n",
    "    aged 18-24 that have attained at least some college per year\n",
    "    '''\n",
    "    year = frame.index[0]\n",
    "    median = frame[frame['Metric'] == 'Median Earnings']\n",
    "    median['United States Total Estimate'] = median['United States Total Estimate'].apply(convert_to_int)\n",
    "    return median['United States Total Estimate'].mean()\n",
    "\n",
    "def create_ap_volume():\n",
    "    '''\n",
    "    Reads a csv file containing AP Exam volume change data and returns a series containing the total volume of\n",
    "    AP exams for each year, 2010-2020\n",
    "    '''\n",
    "    ap_volume = pd.read_excel(r'ap_info/AP-Exam-Volume-Changes-2010-2020.xls', header=1)[:88].set_index('   SUBJECT ')\n",
    "    tot_volume = ap_volume.loc['   TOTAL ']\n",
    "    tot_volume = tot_volume[(tot_volume.index != '%\\nChange')]\n",
    "    for i in range(1, 10):\n",
    "        tot_volume = tot_volume[(tot_volume.index != f'%\\nChange.{i}')]\n",
    "    return tot_volume\n",
    "\n",
    "def get_school_data():\n",
    "    '''\n",
    "    Reads a csv file containing data for the number of schools offering AP exams from 2011-2020 and returns a tuple of two\n",
    "    series: 1. The total number of schools offering AP exams, 2. The average number of AP subjects per participating school\n",
    "    '''\n",
    "    ap_schools = pd.read_excel(r'ap_info/Number-of-Schools-Offering-AP-Exams-2011-2020.xls', header=1)[1:43].set_index('SUBJECT')\n",
    "    ap_schools.columns = ap_schools.columns.astype(str)\n",
    "    ap_schools = ap_schools.loc[:, :'2020']\n",
    "    total_schools = ap_schools.loc['TOTAL SCHOOLS'].drop('%')\n",
    "    total_subjects = ap_schools.loc['Subjects Per School'].drop('%')\n",
    "    for i in range(1, 9):\n",
    "        total_schools = total_schools.drop(f'%.{i}')\n",
    "        total_subjects = total_subjects.drop(f'%.{i}')\n",
    "    return (total_schools, total_subjects)\n"
   ]
  },
  {
   "cell_type": "code",
   "execution_count": 36,
   "metadata": {},
   "outputs": [],
   "source": [
    "# Test clean_percents\n",
    "assert(clean_percents(\"%15\") == 0.15)\n",
    "assert(clean_percents(\"%0\") == 0)"
   ]
  },
  {
   "cell_type": "code",
   "execution_count": 37,
   "metadata": {},
   "outputs": [],
   "source": [
    "# Test create_census_df\n",
    "assert(type(create_census_df()) == pd.DataFrame)\n",
    "assert(type(create_census_df()[\"Metric\"]) == pd.Series)"
   ]
  },
  {
   "cell_type": "code",
   "execution_count": 38,
   "metadata": {},
   "outputs": [],
   "source": [
    "# Test some_college_1824\n",
    "assert(type(some_college_1824(create_census_df())) == float)\n",
    "assert(some_college_1824(create_census_df()) < 1)"
   ]
  },
  {
   "cell_type": "code",
   "execution_count": 39,
   "metadata": {},
   "outputs": [],
   "source": [
    "# Test convert_to_int\n",
    "assert(convert_to_int(\"1,200,300\") == np.int(1200300))\n",
    "assert(convert_to_int(\"1\") == np.int(1))"
   ]
  },
  {
   "cell_type": "code",
   "execution_count": 40,
   "metadata": {},
   "outputs": [],
   "source": [
    "# Test get_median_yearly\n",
    "assert(type(get_median_yearly(create_census_df())) == np.float64)\n",
    "assert(get_median_yearly(create_census_df()) > 30000)"
   ]
  },
  {
   "cell_type": "code",
   "execution_count": 42,
   "metadata": {},
   "outputs": [],
   "source": [
    "# Test create_ap_volume\n",
    "assert(type(create_ap_volume()) == pd.Series)\n",
    "assert(len(create_ap_volume()) == 11)"
   ]
  },
  {
   "cell_type": "code",
   "execution_count": 49,
   "metadata": {},
   "outputs": [],
   "source": [
    "# Test get_school_data\n",
    "assert(type(get_school_data()) == tuple)\n",
    "assert(len(get_school_data()) == 2)\n",
    "assert(type(get_school_data()[0]) == pd.Series)\n",
    "assert(len(get_school_data()[0]) == 10)\n",
    "assert(type(get_school_data()[1]) == pd.Series)\n",
    "assert(len(get_school_data()[1]) == 10)"
   ]
  }
 ],
 "metadata": {
  "kernelspec": {
   "display_name": "Python 3",
   "language": "python",
   "name": "python3"
  },
  "language_info": {
   "codemirror_mode": {
    "name": "ipython",
    "version": 3
   },
   "file_extension": ".py",
   "mimetype": "text/x-python",
   "name": "python",
   "nbconvert_exporter": "python",
   "pygments_lexer": "ipython3",
   "version": "3.7.3"
  }
 },
 "nbformat": 4,
 "nbformat_minor": 4
}
