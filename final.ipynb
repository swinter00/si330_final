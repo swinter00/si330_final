{
 "cells": [
  {
   "cell_type": "code",
   "execution_count": 29,
   "metadata": {},
   "outputs": [],
   "source": [
    "import pandas as pd\n",
    "import numpy as np\n",
    "import scipy.stats as stats\n",
    "import warnings\n",
    "warnings.simplefilter(action='ignore', category=Warning)"
   ]
  },
  {
   "cell_type": "code",
   "execution_count": 30,
   "metadata": {},
   "outputs": [],
   "source": [
    "import os\n",
    "from pathlib import Path\n",
    "\n",
    "def clean_percents(item):\n",
    "    if '%' in str(item):\n",
    "        item = item.replace('%', '')\n",
    "        return float(item) / 100\n",
    "    return item\n",
    "\n",
    "def create_census_df():\n",
    "    '''\n",
    "    Reads census files for every year and concatenates the desired info into a single dataframe\n",
    "    '''\n",
    "    paths = sorted(Path('census_info').iterdir(), key=os.path.getmtime)\n",
    "    data = []\n",
    "    year = 2010\n",
    "    for path in paths:\n",
    "        if os.path.basename(path).endswith('.csv'):\n",
    "            census = pd.read_csv(path).dropna()[:-1]\n",
    "            census['Year'] = year\n",
    "            census.columns = census.columns.str.replace('!!', ' ')\n",
    "            if year < 2015:\n",
    "                census['United States Total Estimate'] = census['United States Total Estimate'].apply(clean_percents)\n",
    "            else:\n",
    "                census['United States Percent Estimate'] = census['United States Percent Estimate'].apply(clean_percents)\n",
    "            group_1824 = census.iloc[1:5]\n",
    "            group_1824['Metric'] = 'Educational Attainment: 18-24'\n",
    "            data.append(group_1824)\n",
    "            group_o25 = census.iloc[6:13]\n",
    "            group_o25['Metric'] = 'Educational Attainment: 25 and Over'\n",
    "            data.append(group_o25)\n",
    "            group_poverty = census.iloc[-9:-5]\n",
    "            group_poverty['Metric'] = 'Poverty Rate'\n",
    "            data.append(group_poverty)\n",
    "            group_earnings = census.tail()\n",
    "            group_earnings['Metric'] = 'Median Earnings'\n",
    "            data.append(group_earnings)\n",
    "            year += 1\n",
    "    \n",
    "    census_df = pd.concat(data)\n",
    "    census_df['Label'] = census_df['Label'].apply(str.strip)\n",
    "    census_df = census_df.set_index('Year')\n",
    "    return census_df\n",
    "\n",
    "census_data = create_census_df()"
   ]
  },
  {
   "cell_type": "code",
   "execution_count": 31,
   "metadata": {},
   "outputs": [],
   "source": [
    "def some_college_1824(frame):\n",
    "    '''\n",
    "    A function used in conjunction with .apply() to returns a series of the total percentage of Americans\n",
    "    aged 18-24 that have attained at least some college per year\n",
    "    '''\n",
    "    year = frame.index[0]\n",
    "    edu_at = frame[frame['Metric'] == 'Educational Attainment: 18-24']\n",
    "    if year < 2015:\n",
    "        some_col = edu_at[edu_at['Label'] == 'Some college or associate\\'s degree']['United States Total Estimate'][year]\n",
    "        higher_col = edu_at[edu_at['Label'] == 'Bachelor\\'s degree or higher']['United States Total Estimate'][year]\n",
    "    else:\n",
    "        some_col = edu_at[edu_at['Label'] == 'Some college or associate\\'s degree']['United States Percent Estimate'][year]\n",
    "        higher_col = edu_at[edu_at['Label'] == 'Bachelor\\'s degree or higher']['United States Percent Estimate'][year]\n",
    "    return some_col + higher_col\n",
    "\n",
    "college_1824 = census_data.groupby('Year').apply(some_college_1824)"
   ]
  },
  {
   "cell_type": "code",
   "execution_count": 32,
   "metadata": {},
   "outputs": [],
   "source": [
    "def convert_to_int(item):\n",
    "    '''\n",
    "    Takes a string representation of a number with commas and converts it to a numpy integer\n",
    "    '''\n",
    "    return np.int64(item.replace(',', ''))\n",
    "\n",
    "def get_median_yearly(frame):\n",
    "    '''\n",
    "    A function used in conjunction with .apply() to returns a series of the total percentage of Americans\n",
    "    aged 18-24 that have attained at least some college per year\n",
    "    '''\n",
    "    year = frame.index[0]\n",
    "    median = frame[frame['Metric'] == 'Median Earnings']\n",
    "    median['United States Total Estimate'] = median['United States Total Estimate'].apply(convert_to_int)\n",
    "    return median['United States Total Estimate'].mean()\n",
    "\n",
    "            \n",
    "median_yearly = census_data.groupby('Year').apply(get_median_yearly)"
   ]
  },
  {
   "cell_type": "code",
   "execution_count": 33,
   "metadata": {},
   "outputs": [],
   "source": [
    "def get_college_poverty_rate(frame):\n",
    "    '''\n",
    "    A function used in conjunction with .apply() to returns a series of the poverty rate for Americans with\n",
    "    at least some college by year\n",
    "    '''\n",
    "    year = frame.index[0]\n",
    "    poverty = frame[frame['Metric'] == 'Poverty Rate']\n",
    "    if year < 2015:\n",
    "        some_col = poverty[poverty['Label'] == 'Some college or associate\\'s degree']['United States Total Estimate'][year]\n",
    "        higher_col = poverty[poverty['Label'] == 'Bachelor\\'s degree or higher']['United States Total Estimate'][year]\n",
    "    else:\n",
    "        some_col = poverty[poverty['Label'] == 'Some college or associate\\'s degree']['United States Percent Estimate'][year]\n",
    "        higher_col = poverty[poverty['Label'] == 'Bachelor\\'s degree or higher']['United States Percent Estimate'][year]\n",
    "    return some_col + higher_col\n",
    "            \n",
    "college_poverty_rate = census_data.groupby('Year').apply(get_college_poverty_rate)"
   ]
  },
  {
   "cell_type": "code",
   "execution_count": 34,
   "metadata": {},
   "outputs": [],
   "source": [
    "def create_ap_volume_df():\n",
    "    '''\n",
    "    Reads a csv file containing AP Exam volume change data and returns a series containing the total volume of\n",
    "    AP exams for each year, 2010-2020\n",
    "    '''\n",
    "    ap_volume = pd.read_excel(r'ap_info/AP-Exam-Volume-Changes-2010-2020.xls', header=1)[:88].set_index('   SUBJECT ')\n",
    "    tot_volume = ap_volume.loc['   TOTAL ']\n",
    "    tot_volume = tot_volume[(tot_volume.index != '%\\nChange')]\n",
    "    for i in range(1, 10):\n",
    "        tot_volume = tot_volume[(tot_volume.index != f'%\\nChange.{i}')]\n",
    "    return tot_volume\n",
    "\n",
    "volume_data = create_ap_volume_df()"
   ]
  },
  {
   "cell_type": "code",
   "execution_count": 35,
   "metadata": {},
   "outputs": [],
   "source": [
    "def get_school_data():\n",
    "    '''\n",
    "    Reads a csv file containing data for the number of schools offering AP exams from 2011-2020 and returns a tuple of two\n",
    "    series: 1. The total number of schools offering AP exams, 2. The average number of AP subjects per participating school\n",
    "    '''\n",
    "    ap_schools = pd.read_excel(r'ap_info/Number-of-Schools-Offering-AP-Exams-2011-2020.xls', header=1)[1:43].set_index('SUBJECT')\n",
    "    ap_schools.columns = ap_schools.columns.astype(str)\n",
    "    ap_schools = ap_schools.loc[:, :'2020']\n",
    "    total_schools = ap_schools.loc['TOTAL SCHOOLS'].drop('%')\n",
    "    total_subjects = ap_schools.loc['Subjects Per School'].drop('%')\n",
    "    for i in range(1, 9):\n",
    "        total_schools = total_schools.drop(f'%.{i}')\n",
    "        total_subjects = total_subjects.drop(f'%.{i}')\n",
    "    return (total_schools, total_subjects)\n",
    "\n",
    "total_schools, total_subjects = get_school_data()"
   ]
  },
  {
   "cell_type": "code",
   "execution_count": 36,
   "metadata": {},
   "outputs": [],
   "source": [
    "# I HAVE:\n",
    "# college_1824, median_yearly, college_poverty_rate, volume_data, total_schools, total_subjects"
   ]
  },
  {
   "cell_type": "code",
   "execution_count": 55,
   "metadata": {},
   "outputs": [
    {
     "data": {
      "text/plain": [
       "(0.9747842739826725, 1.7157800828967895e-06)"
      ]
     },
     "execution_count": 55,
     "metadata": {},
     "output_type": "execute_result"
    }
   ],
   "source": [
    "# Sanity check: correlation between volume of AP exams administered and number of schools offering AP exams\n",
    "stats.pearsonr(volume_data[1:], total_schools)"
   ]
  },
  {
   "cell_type": "code",
   "execution_count": 63,
   "metadata": {},
   "outputs": [
    {
     "data": {
      "text/plain": [
       "(0.2805438081524694, 0.432372613060052)"
      ]
     },
     "execution_count": 63,
     "metadata": {},
     "output_type": "execute_result"
    }
   ],
   "source": [
    "# Correlation between median yearly income and percentage of Americans with some college living under the poverty line\n",
    "stats.pearsonr(median_yearly, college_poverty_rate)"
   ]
  },
  {
   "cell_type": "code",
   "execution_count": 57,
   "metadata": {},
   "outputs": [
    {
     "data": {
      "text/plain": [
       "(-0.16311172291775167, 0.6525355291138957)"
      ]
     },
     "execution_count": 57,
     "metadata": {},
     "output_type": "execute_result"
    }
   ],
   "source": [
    "# Correlation between median yearly income and percentage of Americans 18-24 with some college\n",
    "stats.pearsonr(median_yearly, college_1824)"
   ]
  },
  {
   "cell_type": "code",
   "execution_count": 60,
   "metadata": {},
   "outputs": [
    {
     "data": {
      "text/plain": [
       "(0.6653619317975344, 0.03575689288184227)"
      ]
     },
     "execution_count": 60,
     "metadata": {},
     "output_type": "execute_result"
    }
   ],
   "source": [
    "# Correlation between percentage of Americans 18-24 with some college and colume of AP exams administered\n",
    "stats.pearsonr(college_1824, volume_data[1:])"
   ]
  },
  {
   "cell_type": "code",
   "execution_count": 37,
   "metadata": {},
   "outputs": [],
   "source": [
    "def get_regression_line(series1, series2):\n",
    "    combined = np.array([series1, series2])\n",
    "    return stats.linregress(combined)"
   ]
  },
  {
   "cell_type": "code",
   "execution_count": 38,
   "metadata": {},
   "outputs": [
    {
     "data": {
      "text/plain": [
       "LinregressResult(slope=-6.702562392206316e-07, intercept=0.5792727867661596, rvalue=-0.1631117229177516, pvalue=0.6525355291138957, stderr=1.4333595867696523e-06)"
      ]
     },
     "execution_count": 38,
     "metadata": {},
     "output_type": "execute_result"
    }
   ],
   "source": [
    "get_regression_line(median_yearly, college_1824)"
   ]
  },
  {
   "cell_type": "code",
   "execution_count": 77,
   "metadata": {},
   "outputs": [
    {
     "data": {
      "image/png": "[encoded data removed]",
      "text/plain": [
       "<Figure size 432x288 with 1 Axes>"
      ]
     },
     "metadata": {
      "needs_background": "light"
     },
     "output_type": "display_data"
    }
   ],
   "source": [
    "import matplotlib.pyplot as plt\n",
    "# Plot line of college and volume data, adjust y values for both\n",
    "plt.plot(college_1824)\n",
    "plt.plot(volume_data[:-1])\n",
    "plt.show()"
   ]
  },
  {
   "cell_type": "code",
   "execution_count": 75,
   "metadata": {},
   "outputs": [
    {
     "data": {
      "text/plain": [
       "<matplotlib.legend.Legend at 0x7fb209557c88>"
      ]
     },
     "execution_count": 75,
     "metadata": {},
     "output_type": "execute_result"
    },
    {
     "data": {
      "image/png": "[encoded data removed]",
      "text/plain": [
       "<Figure size 432x288 with 2 Axes>"
      ]
     },
     "metadata": {
      "needs_background": "light"
     },
     "output_type": "display_data"
    }
   ],
   "source": [
    "import matplotlib.pyplot as plt\n",
    "\n",
    "fig, ax = plt.subplots(nrows=2,ncols=1)\n",
    "plt.subplot(2,1,1)\n",
    "plt.plot(college_1824, 'r', label='Percentage of Americans 18-24 with Some College')\n",
    "plt.legend()\n",
    "\n",
    "plt.subplot(2,1,2)\n",
    "plt.plot(volume_data[:-1], 'b', label='Volume of AP exams administered')\n",
    "plt.legend()"
   ]
  },
  {
   "cell_type": "code",
   "execution_count": 86,
   "metadata": {},
   "outputs": [
    {
     "data": {
      "image/png": "[encoded data removed]",
      "text/plain": [
       "<Figure size 432x288 with 2 Axes>"
      ]
     },
     "metadata": {
      "needs_background": "light"
     },
     "output_type": "display_data"
    }
   ],
   "source": [
    "import matplotlib.pyplot as plt\n",
    "\n",
    "fig, ax = plt.subplots()\n",
    "plt.title('Volume of AP exams administered vs. Americans 18-24 with Some College')\n",
    "plt.plot(college_1824, '--r', label='Percentage of Americans 18-24 with Some College')\n",
    "plt.legend()\n",
    "ax.tick_params('y', colors='k')\n",
    "\n",
    "# Get second axis\n",
    "ax2 = ax.twinx()\n",
    "plt.plot(volume_data[:-1], '--b', label='Volume of AP exams administered')\n",
    "plt.legend()\n",
    "ax.tick_params('y', colors='k')"
   ]
  },
  {
   "cell_type": "code",
   "execution_count": null,
   "metadata": {},
   "outputs": [],
   "source": []
  },
  {
   "cell_type": "code",
   "execution_count": null,
   "metadata": {},
   "outputs": [],
   "source": []
  },
  {
   "cell_type": "code",
   "execution_count": 40,
   "metadata": {},
   "outputs": [
    {
     "data": {
      "text/plain": [
       "Ttest_indResult(statistic=37.12985794332884, pvalue=1.8303713677451723e-18)"
      ]
     },
     "execution_count": 40,
     "metadata": {},
     "output_type": "execute_result"
    }
   ],
   "source": [
    "stats.ttest_ind(total_schools, total_subjects)"
   ]
  },
  {
   "cell_type": "code",
   "execution_count": 43,
   "metadata": {},
   "outputs": [
    {
     "data": {
      "text/plain": [
       "Ttest_indResult(statistic=-21.296709839735154, pvalue=1.1600058680738558e-09)"
      ]
     },
     "execution_count": 43,
     "metadata": {},
     "output_type": "execute_result"
    }
   ],
   "source": [
    "stats.ttest_ind(total_schools, volume_data, equal_var=False)"
   ]
  },
  {
   "cell_type": "code",
   "execution_count": 44,
   "metadata": {},
   "outputs": [
    {
     "data": {
      "text/plain": [
       "(0.696887622916357, 0.025121097774432322)"
      ]
     },
     "execution_count": 44,
     "metadata": {},
     "output_type": "execute_result"
    }
   ],
   "source": [
    "stats.pearsonr(total_schools, total_subjects)"
   ]
  },
  {
   "cell_type": "code",
   "execution_count": 45,
   "metadata": {},
   "outputs": [
    {
     "data": {
      "text/plain": [
       "0.696887622916357"
      ]
     },
     "execution_count": 45,
     "metadata": {},
     "output_type": "execute_result"
    }
   ],
   "source": [
    "total_schools.corr(total_subjects)"
   ]
  },
  {
   "cell_type": "code",
   "execution_count": 46,
   "metadata": {},
   "outputs": [],
   "source": [
    "schools_subjects = np.array([total_schools, total_subjects])"
   ]
  },
  {
   "cell_type": "code",
   "execution_count": 47,
   "metadata": {},
   "outputs": [
    {
     "data": {
      "text/plain": [
       "LinregressResult(slope=0.00012884273000304312, intercept=6.43975161565699, rvalue=0.696887622916357, pvalue=0.02512109777443229, stderr=4.687923863995436e-05)"
      ]
     },
     "execution_count": 47,
     "metadata": {},
     "output_type": "execute_result"
    }
   ],
   "source": [
    "stats.linregress(schools_subjects)"
   ]
  },
  {
   "cell_type": "code",
   "execution_count": 49,
   "metadata": {},
   "outputs": [
    {
     "data": {
      "text/plain": [
       "nan"
      ]
     },
     "execution_count": 49,
     "metadata": {},
     "output_type": "execute_result"
    }
   ],
   "source": [
    "volume_data[1:].apply(lambda x: x.astype(np.float)).corr(total_schools)"
   ]
  },
  {
   "cell_type": "code",
   "execution_count": 51,
   "metadata": {},
   "outputs": [
    {
     "data": {
      "text/plain": [
       "2011    3456020.0\n",
       "2012    3698407.0\n",
       "2013    3938100.0\n",
       "2014    4176200.0\n",
       "2015    4478936.0\n",
       "2016    4704980.0\n",
       "2017    4957931.0\n",
       "2018    5090324.0\n",
       "2019    5098815.0\n",
       "2020    4751957.0\n",
       "Name:    TOTAL , dtype: float64"
      ]
     },
     "execution_count": 51,
     "metadata": {},
     "output_type": "execute_result"
    }
   ],
   "source": [
    "volume_data[1:].apply(lambda x: x.astype(np.float))"
   ]
  },
  {
   "cell_type": "code",
   "execution_count": 52,
   "metadata": {},
   "outputs": [
    {
     "data": {
      "text/plain": [
       "2011    18340.0\n",
       "2012    18647.0\n",
       "2013    18920.0\n",
       "2014    19493.0\n",
       "2015    21594.0\n",
       "2016    21953.0\n",
       "2017    22169.0\n",
       "2018    22612.0\n",
       "2019    22678.0\n",
       "2020    22152.0\n",
       "Name: TOTAL SCHOOLS, dtype: float64"
      ]
     },
     "execution_count": 52,
     "metadata": {},
     "output_type": "execute_result"
    }
   ],
   "source": [
    "total_schools"
   ]
  },
  {
   "cell_type": "code",
   "execution_count": 53,
   "metadata": {},
   "outputs": [
    {
     "data": {
      "text/plain": [
       "(0.9747842739826725, 1.7157800828967895e-06)"
      ]
     },
     "execution_count": 53,
     "metadata": {},
     "output_type": "execute_result"
    }
   ],
   "source": [
    "stats.pearsonr(volume_data[1:].apply(lambda x: x.astype(np.float)), total_schools)"
   ]
  },
  {
   "cell_type": "code",
   "execution_count": 54,
   "metadata": {},
   "outputs": [
    {
     "data": {
      "text/plain": [
       "(0.55588353870428, 0.09521510894452553)"
      ]
     },
     "execution_count": 54,
     "metadata": {},
     "output_type": "execute_result"
    }
   ],
   "source": [
    "stats.pearsonr(volume_data[:-1], college_1824)"
   ]
  },
  {
   "cell_type": "code",
   "execution_count": null,
   "metadata": {},
   "outputs": [],
   "source": []
  }
 ],
 "metadata": {
  "kernelspec": {
   "display_name": "Python 3",
   "language": "python",
   "name": "python3"
  },
  "language_info": {
   "codemirror_mode": {
    "name": "ipython",
    "version": 3
   },
   "file_extension": ".py",
   "mimetype": "text/x-python",
   "name": "python",
   "nbconvert_exporter": "python",
   "pygments_lexer": "ipython3",
   "version": "3.7.3"
  }
 },
 "nbformat": 4,
 "nbformat_minor": 4
}
